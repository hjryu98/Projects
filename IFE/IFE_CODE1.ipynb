{
  "cells": [
    {
      "cell_type": "markdown",
      "source": [
        "# Introduction to Financial Engineering<br>\n",
        "## Assignment #1<br>\n",
        "### 2018015350 류형진\n",
        "<br>\n",
        "<br>\n",
        "\n",
        "## 코드 설명\n",
        "```\n",
        "1. 데이터를 불러온다.\n",
        "\n",
        "2. 불러온 데이터에서 어느 종목을 가지고 포트폴리오를 구성할지 결정\n",
        "  2-1. 이번 프로젝트에서는 2010년 1월 KOSPI의 MCAP 상위 10개의 종목을 우선시로 추가하기로 결정\n",
        "  (만약 없거나 이름이 바뀐 경우에는 그 다음 종목으로 대체하는 등으로 진행)\n",
        "  2-2. 만약 총 A개의 종목으로 포트폴리오를 구성하고자 한다면, (A - 10) 개의 종목을 누적 수익률이 큰 것부터 선별\n",
        "\n",
        "3. 선별한 종목들로 최소 분산, 최대 샤프 비율 포트폴리오 구성\n",
        "  3-1. 최소 분산 포트폴리오는 cxvopt의 quadratic programming을 이용해 Markowitz model을 solve\n",
        " (이때 사용하는 r_i는 과거 데이터의 평균, variance 값들은 과거 데이터의 rho를 이용해 GARCH(1,1)로 예측해 공분산 행렬을 구성)\n",
        "  3-2. 최대 샤프 비율 포트폴리오는, scipy의 optimize를 활용해 solve.\n",
        "\n",
        "4. 구성한 포트폴리오들의 미래 데이터 1달에 대한 testing을 진행\n",
        "(Portfolio return을 계산)\n",
        "\n",
        "5. train time window를 한 달 증가 시켜서, 1달짜리 test data를 train window에 담고, 기존의 맨 첫 train data는 배제.\n",
        "(Walking Forward Analysis)\n",
        "\n",
        "6. 3-5를 계속 반복\n",
        "\n",
        "7. 모든 return을 계산했다면, csv파일로 변환해 엑셀에서 KOSPI에 비해 어느 성능을 내는지 비교해보기.\n",
        "```\n",
        "<br>\n",
        "&nbsp;"
      ],
      "metadata": {
        "id": "WhuPALWNAbh6"
      }
    },
    {
      "cell_type": "markdown",
      "metadata": {
        "id": "9hyjUPWlLSN7"
      },
      "source": [
        "# 1. 환경 설정 및 데이터 불러오기"
      ]
    },
    {
      "cell_type": "code",
      "execution_count": null,
      "metadata": {
        "colab": {
          "base_uri": "https://localhost:8080/"
        },
        "id": "GQkgP0t7LF2i",
        "outputId": "5ebc6115-f877-40b3-bad1-d8cc9f75b436"
      },
      "outputs": [
        {
          "output_type": "stream",
          "name": "stdout",
          "text": [
            "Mounted at /content/drive\n",
            "/content/drive/My Drive\n"
          ]
        }
      ],
      "source": [
        "from google.colab import drive\n",
        "import pandas as pd\n",
        "import numpy as np\n",
        "from cvxopt import matrix as cvxopt_matrix\n",
        "from cvxopt import solvers as cvxopt_solvers\n",
        "\n",
        "\n",
        "drive.mount('/content/drive', force_remount=True)\n",
        "\n",
        "# enter the foldername in your Google Drive where you have saved the unzipped\n",
        "FOLDERNAME =  'IFE/'\n",
        "\n",
        "assert FOLDERNAME is not None, 'ERROR'\n",
        "\n",
        "%cd drive/My\\ Drive\n",
        "%cp -r $FOLDERNAME ../../\n"
      ]
    },
    {
      "cell_type": "code",
      "source": [
        "# 사용할 optimization technique, quadratic 문제를 풀 수 있다\n",
        "!pip install cvxopt\n",
        "\n",
        "# 분산 추정에 사용할 arch library\n",
        "!pip install arch"
      ],
      "metadata": {
        "id": "kTo4nQXSNYoU"
      },
      "execution_count": null,
      "outputs": []
    },
    {
      "cell_type": "code",
      "execution_count": null,
      "metadata": {
        "id": "wTREE_IYR3Ht"
      },
      "outputs": [],
      "source": [
        "# 모델 수립을 위한 Train/Validation Set, 에러날시 runtime 해제 후 다시 mount\n",
        "df = pd.read_csv('./IFE/dataset.csv')"
      ]
    },
    {
      "cell_type": "code",
      "execution_count": null,
      "metadata": {
        "id": "n0Hib5mGLtfE"
      },
      "outputs": [],
      "source": [
        "\n",
        "# 사용할 거래 데이터\n",
        "df"
      ]
    },
    {
      "cell_type": "markdown",
      "source": [],
      "metadata": {
        "id": "1Gcru-dzPe8h"
      }
    },
    {
      "cell_type": "markdown",
      "source": [
        "## 2. 포트폴리오 구현"
      ],
      "metadata": {
        "id": "87huHdvqPf_O"
      }
    },
    {
      "cell_type": "code",
      "source": [
        "### 누적 수익률 상위 00개 종목들을 뽑아서, 포트폴리오 구성에 활용할 것임.\n",
        "\n",
        "adjusted_df = df\n",
        "adjusted_df = adjusted_df.drop(\"Symbol\", axis = 1)\n",
        "adjusted_df = adjusted_df.drop(0)\n",
        "\n",
        "# object 타입의 가격값들이니, 계산을 하기 위해 모든 데이터들의 타입을 int64 자료형으로 변환\n",
        "for i in adjusted_df.columns:\n",
        "  adjusted_df[i] = adjusted_df[i].str.replace(',', '').astype('int64')"
      ],
      "metadata": {
        "id": "Ises34ew-yuI"
      },
      "execution_count": null,
      "outputs": []
    },
    {
      "cell_type": "code",
      "source": [
        "## 일단 10개는 시가총액이 제일 높은 거부터 10개로 투자를 해볼 것이다.(2010년 1월에 mcap 데이터를 조회해 ticker를 뽑았음) -> KRX KOSPI에서 따온 데이터\n",
        "big_mcap_assets = [\"A005930\", \"A005490\", \"A005380\", \"A015760\", \"A003550\", \"A012330\", \"A000660\", \"A017670\", \"A030200\", \"A000810\"]\n",
        "# big_mcap_assets = []\n",
        "selected_df = pd.DataFrame() # 선택한 데이터들을 담는 최종 데이터프레임을 만든다.\n",
        "use_df = df.drop(0, axis = 0)\n",
        "selected_df[\"Date\"] = use_df[\"Symbol\"] # 날짜 데이터를 추가\n",
        "use_df = use_df.drop(\"Symbol\", axis = 1)\n",
        "\n",
        "for i in big_mcap_assets:\n",
        "  selected_df[i] = adjusted_df[i]\n",
        "\n",
        "adjusted_df = adjusted_df.drop(big_mcap_assets, axis = 1)"
      ],
      "metadata": {
        "id": "Q2OdvN0A7W2f"
      },
      "execution_count": null,
      "outputs": []
    },
    {
      "cell_type": "code",
      "source": [
        "# pi(1 + rp)가 큰 상위 00 - 10개의 종목을 구하기 위해 return을 계산 -> 총 00개의 종목을 선정해서 포트폴리오를 구성해볼 것임.\n",
        "day_return = adjusted_df.pct_change().dropna()\n",
        "\n",
        "day_return = day_return.reset_index(drop = True)\n",
        "\n",
        "day_return = day_return + 1\n",
        "\n",
        "day_return"
      ],
      "metadata": {
        "id": "sE1WY7KPAkcS"
      },
      "execution_count": null,
      "outputs": []
    },
    {
      "cell_type": "code",
      "source": [
        "cumulative_return = [] # 1 + rp값을 모두 곱한 값을 각 인덱스에 저장\n",
        "\n",
        "for i in day_return.columns:\n",
        "  val = 1\n",
        "  for j in range(0, day_return.shape[0]):\n",
        "    val *= day_return.loc[j, i]\n",
        "\n",
        "  cumulative_return.append(val)"
      ],
      "metadata": {
        "id": "Rt_e908iA1j_"
      },
      "execution_count": null,
      "outputs": []
    },
    {
      "cell_type": "code",
      "source": [
        "select_asset_index = np.argsort(cumulative_return)[::-1][:40] # 값을 기준으로 내림차순으로 정렬\n",
        "\n",
        "# 선정한 00 - 10개의 종목들\n",
        "select_asset_index"
      ],
      "metadata": {
        "id": "e-4Xx6eYCT0_"
      },
      "execution_count": null,
      "outputs": []
    },
    {
      "cell_type": "code",
      "source": [
        "# 선정한 모든 종목들의 주가 값을 저장한다.\n",
        "for i in select_asset_index:\n",
        "  col = adjusted_df.columns[i]\n",
        "  selected_df[col] = adjusted_df[col]\n",
        "\n",
        "in_sample = [1, 120] ## train\n",
        "out_sample = [121, selected_df.shape[0]] ## test\n",
        "\n",
        "selected_df # 이 데이터로 포트폴리오를 구성하며, 매 time-frame을 옮겨가며 rebalancing(solving Markowitz model with no-shortselling, in every iteration)"
      ],
      "metadata": {
        "id": "xKcegFCJC-Cj"
      },
      "execution_count": null,
      "outputs": []
    },
    {
      "cell_type": "code",
      "execution_count": null,
      "metadata": {
        "id": "mYvDuW-qPenZ"
      },
      "outputs": [],
      "source": [
        "## 모든 데이터에 대한 값을 구해놓고, 이를 계속 재활용하는 식으로 진행\n",
        "def calculate_statistics(data): # 여기서의 data arg.는 사전에 모두 구해놓은 return data\n",
        "  import numpy as np\n",
        "  # data = data.drop(\"Date\", axis = 1)\n",
        "  # returns = data.pct_change().dropna()\n",
        "  returns = pd.DataFrame(data)\n",
        "  mean_returns = returns.mean()\n",
        "  cov_matrix = returns.cov()\n",
        "  corr_matrix = returns.corr()\n",
        "\n",
        "  return np.array(returns), np.array(mean_returns), np.array(cov_matrix), np.array(corr_matrix)"
      ]
    },
    {
      "cell_type": "code",
      "execution_count": null,
      "metadata": {
        "id": "iJKmZ-AvbUHG"
      },
      "outputs": [],
      "source": [
        "# 전체 데이터에 대한 rate of return을 계산하여 반환해주는 함수\n",
        "def calculate_all_return(data):\n",
        "  data = data.drop(\"Date\", axis = 1)\n",
        "  returns = data.pct_change().dropna()\n",
        "\n",
        "  return returns"
      ]
    },
    {
      "cell_type": "code",
      "execution_count": null,
      "metadata": {
        "id": "YA25xk-6nFmb"
      },
      "outputs": [],
      "source": [
        "## GARCH(1,1)으로 분산을 estimate하여, 과거의 상관계수를 함께 활용해 공분산 행렬을 구축하기 위해 구현한 함수\n",
        "## 이에 대한 정상성 검증 없이 항상 만족을 한다 가정하고 구현을 진행했음.\n",
        "def garch(returns, mat):\n",
        "  from arch.univariate import ConstantMean, GARCH, Normal\n",
        "  from arch import arch_model\n",
        "  import math\n",
        "\n",
        "  for i in range(0, returns.shape[1]):\n",
        "    am = arch_model(returns[:, i], vol = \"Garch\", p = 1, o = 0, q = 1, dist = \"Normal\")\n",
        "    result = am.fit(update_freq = 5)\n",
        "\n",
        "    forecasts = result.forecast(horizon = 1, reindex = False)\n",
        "\n",
        "    sigma = math.sqrt(forecasts.variance.iloc[-1, :].values)\n",
        "\n",
        "    for j in range(0, returns.shape[1]):\n",
        "        mat[i, j] *= sigma\n",
        "        mat[j, i] *= sigma\n",
        "\n",
        "  return mat # 추정값을 구해 만든 공분산 행렬\n",
        "\n",
        "## rate of return을 추정하기 위한 arima 함수 구현\n",
        "def arima(returns, mean):\n",
        "  import statsmodels.api as sm\n",
        "  from statsmodels.tsa.arima_model import ARIMA\n",
        "\n",
        "  returns = pd.DataFrame(returns)\n",
        "  print(returns[0])\n",
        "  for i in range(0, returns.shape[1]):\n",
        "    am = sm.tsa.arima.ARIMA(returns[i].diff(), order = (1, 0, 1)).fit()\n",
        "    forecasts = am.forecast(steps = 1)\n",
        "\n",
        "    mean[i] = forecasts\n",
        "\n",
        "  return mean # r에 대한 추정값을 담아서 반환\n"
      ]
    },
    {
      "cell_type": "code",
      "execution_count": null,
      "metadata": {
        "id": "DMg8PhAghFDN"
      },
      "outputs": [],
      "source": [
        "## 최소 분산 포트폴리오의 weight를 반환해주는 함수\n",
        "\n",
        "def Minimum_Variance_Portfolio(data, r_min, start, end, prv):\n",
        "\n",
        "  n = len(data.columns) - 1 ## 선택한 종목들의 개수\n",
        "\n",
        "  returns = returns_of_data[start : end]\n",
        "  returns, mean, P, corr_matrix = calculate_statistics(returns_of_data[start : end]) ## train sample 에 해당하는 row를 과거 데이터로 사용\n",
        "  P = garch(returns, corr_matrix) ## 기존의 상관계수를 이용하고, 분산을 estimate해서 곱하여 covariance 행렬 구축 -> P\n",
        "  mean = arima(returns, mean)\n",
        "\n",
        "  P = cvxopt_matrix(P)\n",
        "  G = cvxopt_matrix(np.vstack((-np.transpose(mean), -np.eye(n))))\n",
        "  h = cvxopt_matrix(np.vstack((-np.ones((1,1))*r_min, -np.zeros((n,1)))))\n",
        "  A = cvxopt_matrix(1.0, (1, n))\n",
        "  b = cvxopt_matrix(1.0)\n",
        "  q = cvxopt_matrix(np.zeros((n, 1)))\n",
        "\n",
        "  # sol = cvxopt_solvers.qp(P, q, G, h, A, b)\n",
        "  try:\n",
        "    sol = cvxopt_solvers.qp(P, q, G, h, A, b)\n",
        "\n",
        "  except: # 만약 답이 발산한다면, terminate하고 전 달의 weight값을 이용한다는 logic 활용\n",
        "    return prv, P\n",
        "\n",
        "  weight = []\n",
        "  for i in sol['x']:\n",
        "    weight.append(i)\n",
        "\n",
        "  return weight, P ## 가중치 값을 리스트 형태로 ticker 순서대로 저장해 반환, 최대 샤프 지수 포트폴리오 구할 때 P를 사용할 것이니 이것 역시 반환해주기\n"
      ]
    },
    {
      "cell_type": "code",
      "execution_count": null,
      "metadata": {
        "id": "F4NnyU9OiqpC"
      },
      "outputs": [],
      "source": [
        "## 최대 샤프 지수 포트폴리오를 만들고 이의 가중치 집합(포트폴리오)을 반환\n",
        "## scipy 활용\n",
        "import numpy as np\n",
        "from scipy import optimize\n",
        "\n",
        "def Maximum_Sharpe_Ratio_Portfolio(mean, cov, rf, psize):\n",
        "    weight = []\n",
        "\n",
        "    def opt_func(x, Mean_Returns, Cov_Returns, RiskFree_Rate, Portfolio_Size):\n",
        "        Denom = np.sqrt(np.matmul(np.matmul(x, cov), x.T) )\n",
        "        Nume = np.matmul(np.array(mean),x.T) - rf\n",
        "        func = -(Nume / Denom)\n",
        "        return func\n",
        "\n",
        "    # 제약조건을 담는 함수\n",
        "    def constraintEq(x):\n",
        "        A = np.ones(x.shape)\n",
        "        b = 1\n",
        "        constraintVal = np.matmul(A, x.T) - b\n",
        "        return constraintVal\n",
        "\n",
        "  # 가중치의 제약을 담는 logic\n",
        "    xinit = np.repeat(0.33, psize)\n",
        "    cons = ({'type': 'eq', 'fun' : constraintEq})\n",
        "    lb = 0 ## 가중치의 하한, 상한을 설정\n",
        "    ub = 1\n",
        "    bnds = tuple([(lb,ub) for x in xinit])\n",
        "\n",
        "    #minimize solver(scipy optimizer의 minimize를 사용함 (음수로 만들어서))\n",
        "    opt = optimize.minimize (opt_func, x0 = xinit, args = (mean, cov,\\\n",
        "                             rf, psize), method = 'SLSQP',  \\\n",
        "                             bounds = bnds, constraints = cons, tol = 10**-3)\n",
        "\n",
        "    for i in opt['x']:\n",
        "      weight.append(i)\n",
        "\n",
        "    return weight"
      ]
    },
    {
      "cell_type": "code",
      "execution_count": null,
      "metadata": {
        "id": "hl73vAjqrZGP"
      },
      "outputs": [],
      "source": [
        "## Memoization하여서 전체 데이터에 대한 return을 재활용 -> 계산량을 줄이기 위해\n",
        "returns_of_data = calculate_all_return(selected_df) # 전체 데이터의 return\n",
        "returns_of_data = returns_of_data.reset_index(drop = True)"
      ]
    },
    {
      "cell_type": "code",
      "execution_count": null,
      "metadata": {
        "id": "XfHvU84lbI9R"
      },
      "outputs": [],
      "source": [
        "returns_of_data ## 전체 데이터에 대한 rate of return의 dataframe"
      ]
    },
    {
      "cell_type": "code",
      "execution_count": null,
      "metadata": {
        "id": "1loustqEl8RD"
      },
      "outputs": [],
      "source": [
        "## minimum variance 포트폴리오와 maximum sharpe ratio portfolio를 모두 구하되, 백테스팅을 달별로 진행하며, time window를 매번 움직이면서 새로운 weight를 계산하여 return을 테스팅\n",
        "## walk forward analysis for inspect portfolio weights\n",
        "\n",
        "idx = 0 # time-frame을 매 iteration마다 옮기기 위한 인덱스\n",
        "min_ret_list = [] # real data에 대해서 minimum variance portfolio r_p를 계산하고 저장\n",
        "max_ret_list = [] # real data에 대해서 maximum sharpe ratio portfolio r_p를 계산하고 저장\n",
        "n = len(selected_df.columns) - 1\n",
        "prv_weight = [(1 / n)] * n\n",
        "\n",
        "## 범위를 이유로 마지막 test 구간은 제외하고 구현\n",
        "for i in range(out_sample[0], out_sample[1] - 1):\n",
        "  train = [0 + idx, in_sample[1] + idx]\n",
        "  test = i\n",
        "  idx += 1\n",
        "\n",
        "  # 최소 분산 포트폴리오 구하기\n",
        "  mv_weight_list, cov_matrix = Minimum_Variance_Portfolio(selected_df, 0, train[0], train[1], prv_weight)\n",
        "  prv_weight = mv_weight_list # 기존 weight를 저장\n",
        "  # test data에서 수익률이 어느정도 나오는지 확인\n",
        "  ret = returns_of_data.iloc[test]\n",
        "  ans = 0\n",
        "  for j in range(0, n):\n",
        "    ans += (ret[j] * mv_weight_list[j])\n",
        "\n",
        "  min_ret_list.append(ans)\n",
        "\n",
        "\n",
        "  # 최대 샤프 지수 포트폴리오 구하기\n",
        "  m = calculate_statistics(returns_of_data[train[0] : train[1]])[1]\n",
        "  mx_weight_list = Maximum_Sharpe_Ratio_Portfolio(m, cov_matrix, 0, n)\n",
        "\n",
        "  ans = 0\n",
        "\n",
        "  for j in range(0, n):\n",
        "    ans += (ret[j] * mx_weight_list[j])\n",
        "\n",
        "  max_ret_list.append(ans)\n",
        "\n",
        "  # break ## for debugging, break segmentation invoked"
      ]
    },
    {
      "cell_type": "markdown",
      "source": [
        "## 3. Return plotting and result analysis"
      ],
      "metadata": {
        "id": "m_8pUxhBPosL"
      }
    },
    {
      "cell_type": "code",
      "execution_count": null,
      "metadata": {
        "id": "jo3duDh45VYI"
      },
      "outputs": [],
      "source": [
        "# backtesting해서 계산한 수익들을 plotting을 해보기, time frame을 월 단위로 잘라서 line plot을 그렸음\n",
        "import matplotlib.pyplot as plt\n",
        "import datetime\n",
        "\n",
        "result_min_df = pd.DataFrame()\n",
        "result_min_df['Date'] = selected_df.iloc[out_sample[0] : out_sample[1] - 1, 0]\n",
        "result_min_df = result_min_df.reset_index(drop = True)\n",
        "result_min_df['rate of return'] = pd.DataFrame(min_ret_list) ## input list를 수정하여 min, max portfolio에 대한 line plot 및 dataframe 생성 가능\n",
        "\n",
        "result_max_df = pd.DataFrame()\n",
        "result_max_df['Date'] = selected_df.iloc[out_sample[0] : out_sample[1] - 1, 0]\n",
        "result_max_df = result_max_df.reset_index(drop = True)\n",
        "result_max_df['rate of return'] = pd.DataFrame(max_ret_list) ## input list를 수정하여 min, max portfolio에 대한 line plot 및 dataframe 생성 가능\n",
        "\n",
        "start = datetime.date(2010, 1, 29)\n",
        "end = datetime.date(2020, 12, 30)\n",
        "\n",
        "plt.figure(figsize = (20, 5))\n",
        "plt.plot(result_min_df['Date'], result_min_df['rate of return'], label = 'Minimum_vaiance_portfolio')\n",
        "plt.plot(result_max_df['Date'], result_max_df['rate of return'], label = 'Maximum Sharpe Ratio Portfolio')\n",
        "plt.legend()\n",
        "plt.show()"
      ]
    },
    {
      "cell_type": "code",
      "execution_count": null,
      "metadata": {
        "id": "m2BVYVRzzaqg"
      },
      "outputs": [],
      "source": [
        "# Excel 파일 구성을 위한 return에 대한 csv파일 생성 체크\n",
        "pd.options.display.max_rows = 200\n",
        "result_min_df.to_csv('./IFE/result_min_df4.csv') # 현재 min\n",
        "result_max_df.to_csv('./IFE/result_max_df4.csv')"
      ]
    },
    {
      "cell_type": "markdown",
      "source": [],
      "metadata": {
        "id": "rmf33DyS05y6"
      }
    },
    {
      "cell_type": "code",
      "execution_count": null,
      "metadata": {
        "id": "IAN85q3PMNw5"
      },
      "outputs": [],
      "source": [
        "returns_of_data.columns # 선정한 ticker"
      ]
    },
    {
      "cell_type": "code",
      "execution_count": null,
      "metadata": {
        "id": "oviy4ccwVWvn"
      },
      "outputs": [],
      "source": [
        "# 50개 최적, sheet 3\n",
        "# ['A005930', 'A005490', 'A005380', 'A015760', 'A003550', 'A012330',\n",
        "#        'A000660', 'A017670', 'A030200', 'A000810', 'A000670', 'A001800',\n",
        "#        'A003530', 'A010120', 'A001440', 'A024090', 'A008930', 'A002350',\n",
        "#        'A007340', 'A016360', 'A017800', 'A013120', 'A000490', 'A000240',\n",
        "#        'A002840', 'A010060', 'A012860', 'A003030', 'A028050', 'A024110',\n",
        "#        'A034810', 'A001040', 'A005070', 'A014470', 'A006110', 'A017960',\n",
        "#        'A009520', 'A005950', 'A004430', 'A006730', 'A001380', 'A007280',\n",
        "#        'A003540', 'A013700', 'A014790', 'A009420', 'A024940', 'A034120',\n",
        "#        'A010100', 'A023770']\n",
        "\n",
        "# 60개 최적, sheet 4\n",
        "# ['A005930', 'A005490', 'A005380', 'A015760', 'A003550', 'A012330',\n",
        "#        'A000660', 'A017670', 'A030200', 'A000810', 'A019170', 'A002840',\n",
        "#        'A005690', 'A008930', 'A009420', 'A025950', 'A026960', 'A007700',\n",
        "#        'A025980', 'A002790', 'A007310', 'A011000', 'A003220', 'A004490',\n",
        "#        'A003850', 'A006040', 'A033920', 'A003090', 'A011780', 'A000100',\n",
        "#        'A024720', 'A014680', 'A021240', 'A002620', 'A006280', 'A006730',\n",
        "#        'A010780', 'A008350', 'A001820', 'A033270', 'A001840', 'A024060',\n",
        "#        'A009450', 'A011390', 'A012790', 'A025900', 'A005740', 'A003000',\n",
        "#        'A006060', 'A001070', 'A036490', 'A016250', 'A003350', 'A006890',\n",
        "#        'A000060', 'A011170', 'A030960', 'A003780', 'A033540', 'A018880']\n"
      ]
    },
    {
      "cell_type": "code",
      "source": [],
      "metadata": {
        "id": "Da_ppctNXYBZ"
      },
      "execution_count": null,
      "outputs": []
    }
  ],
  "metadata": {
    "colab": {
      "provenance": []
    },
    "kernelspec": {
      "display_name": "Python 3",
      "name": "python3"
    },
    "language_info": {
      "name": "python"
    }
  },
  "nbformat": 4,
  "nbformat_minor": 0
}