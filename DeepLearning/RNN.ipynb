{
  "nbformat": 4,
  "nbformat_minor": 0,
  "metadata": {
    "colab": {
      "provenance": []
    },
    "kernelspec": {
      "name": "python3",
      "display_name": "Python 3"
    },
    "language_info": {
      "name": "python"
    }
  },
  "cells": [
    {
      "cell_type": "code",
      "execution_count": 1,
      "metadata": {
        "id": "k4p1aI1HevBg"
      },
      "outputs": [],
      "source": [
        "import tensorflow_datasets as tfds\n",
        "import tensorflow as tf"
      ]
    },
    {
      "cell_type": "code",
      "source": [
        "#영화 리뷰 데이터, 긍정 혹은 부정으로 이진분류 되어있는 데이터(클래스가 두 개인 데이터)\n",
        "dataset, info = tfds.load(\"imdb_reviews/subwords8k\", with_info = True, as_supervised = True)\n",
        "train_dataset, test_dataset = dataset['train'], dataset['test']"
      ],
      "metadata": {
        "colab": {
          "base_uri": "https://localhost:8080/"
        },
        "id": "nJdkC2DQe1JX",
        "outputId": "8357d7bd-5cb2-4f44-c471-aeb91590c76a"
      },
      "execution_count": 2,
      "outputs": [
        {
          "output_type": "stream",
          "name": "stderr",
          "text": [
            "WARNING:absl:TFDS datasets with text encoding are deprecated and will be removed in a future version. Instead, you should use the plain text version and tokenize the text using `tensorflow_text` (See: https://www.tensorflow.org/tutorials/tensorflow_text/intro#tfdata_example)\n"
          ]
        }
      ]
    },
    {
      "cell_type": "code",
      "source": [
        "#텍스트는 토큰 단위로 매칭 되어있음, 그러므로 encoder에 텍스트의 매칭되는 값들 저장\n",
        "encoder = info.features['text'].encoder"
      ],
      "metadata": {
        "id": "odInfK85fMZl"
      },
      "execution_count": 3,
      "outputs": []
    },
    {
      "cell_type": "code",
      "source": [
        "#vocabulary의 size확인\n",
        "print('Voca size: {}'.format(encoder.vocab_size))"
      ],
      "metadata": {
        "colab": {
          "base_uri": "https://localhost:8080/"
        },
        "id": "L8z0qvWngOhs",
        "outputId": "e3620dc1-d5b4-48f1-dd07-8fa658af496e"
      },
      "execution_count": 4,
      "outputs": [
        {
          "output_type": "stream",
          "name": "stdout",
          "text": [
            "Voca size: 8185\n"
          ]
        }
      ]
    },
    {
      "cell_type": "code",
      "source": [
        "#string을 인코딩, 디코딩해서 벡터 확인 -> 인코딩과 디코딩은 가역적임\n",
        "sample_string = 'Hello Tensorflow.'\n",
        "\n",
        "encoded_string = encoder.encode(sample_string)\n",
        "print('Encoded string is {}'.format(encoded_string))\n",
        "\n",
        "original_string = encoder.decode(encoded_string)\n",
        "print('The original string is {}'.format(original_string))"
      ],
      "metadata": {
        "colab": {
          "base_uri": "https://localhost:8080/"
        },
        "id": "4s_c2hRTgVxl",
        "outputId": "6af6ced8-7fa0-4150-9f0f-4d9e945dcb3d"
      },
      "execution_count": 5,
      "outputs": [
        {
          "output_type": "stream",
          "name": "stdout",
          "text": [
            "Encoded string is [4025, 222, 6307, 2327, 2934, 7975]\n",
            "The original string is Hello Tensorflow.\n"
          ]
        }
      ]
    },
    {
      "cell_type": "code",
      "source": [
        "#토큰 단위가 어떻게 매칭되는지 확인\n",
        "\n",
        "for idx in encoded_string:\n",
        "  print('{} ----> {}'.format(idx, encoder.decode([idx])))"
      ],
      "metadata": {
        "colab": {
          "base_uri": "https://localhost:8080/"
        },
        "id": "GXlA2sLshDQj",
        "outputId": "78ace337-601f-42c8-e012-631328ba4971"
      },
      "execution_count": 6,
      "outputs": [
        {
          "output_type": "stream",
          "name": "stdout",
          "text": [
            "4025 ----> Hell\n",
            "222 ----> o \n",
            "6307 ----> Ten\n",
            "2327 ----> sor\n",
            "2934 ----> flow\n",
            "7975 ----> .\n"
          ]
        }
      ]
    },
    {
      "cell_type": "markdown",
      "source": [
        "# Data spliting"
      ],
      "metadata": {
        "id": "dQQujPSb3Hn1"
      }
    },
    {
      "cell_type": "code",
      "source": [
        "#인코딩된 문자열을 학습, 테스트 값으로 분할\n",
        "buffer_size = 10000\n",
        "batch_size = 64\n",
        "\n",
        "train_dataset = train_dataset.shuffle(buffer_size)\n",
        "train_dataset = train_dataset.padded_batch(batch_size)\n",
        "\n",
        "test_dataset = test_dataset.padded_batch(batch_size)"
      ],
      "metadata": {
        "id": "37d0rXk_hXRm"
      },
      "execution_count": 7,
      "outputs": []
    },
    {
      "cell_type": "markdown",
      "source": [
        "# RNN"
      ],
      "metadata": {
        "id": "lJoEa_683F4z"
      }
    },
    {
      "cell_type": "code",
      "source": [
        "#모델 -> 임베딩 벡터, 양방향 RNN 레이어, Dense 레이어로 구성\n",
        "model = tf.keras.Sequential([\n",
        "    tf.keras.layers.Embedding(encoder.vocab_size, 64),\n",
        "    tf.keras.layers.Bidirectional(tf.keras.layers.SimpleRNN(64)),\n",
        "    tf.keras.layers.Dense(64, activation = 'relu'),\n",
        "    tf.keras.layers.Dense(1)\n",
        "])\n"
      ],
      "metadata": {
        "id": "FEPzHKOzh35k"
      },
      "execution_count": 8,
      "outputs": []
    },
    {
      "cell_type": "code",
      "source": [
        "# loss는 binary cross-entropy, optimizer는 Adam optimizer\n",
        "model.compile(loss = tf.keras.losses.BinaryCrossentropy(from_logits = True),\n",
        "              optimizer = tf.keras.optimizers.Adam(1e-4),\n",
        "              metrics = ['accuracy'])"
      ],
      "metadata": {
        "id": "GSnDNV9biFVL"
      },
      "execution_count": 9,
      "outputs": []
    },
    {
      "cell_type": "code",
      "source": [
        "model.summary()"
      ],
      "metadata": {
        "colab": {
          "base_uri": "https://localhost:8080/"
        },
        "id": "dViOeyP2l5ww",
        "outputId": "9bd32113-1081-4dba-e15a-7033ce252d14"
      },
      "execution_count": 10,
      "outputs": [
        {
          "output_type": "stream",
          "name": "stdout",
          "text": [
            "Model: \"sequential\"\n",
            "_________________________________________________________________\n",
            " Layer (type)                Output Shape              Param #   \n",
            "=================================================================\n",
            " embedding (Embedding)       (None, None, 64)          523840    \n",
            "                                                                 \n",
            " bidirectional (Bidirectiona  (None, 128)              16512     \n",
            " l)                                                              \n",
            "                                                                 \n",
            " dense (Dense)               (None, 64)                8256      \n",
            "                                                                 \n",
            " dense_1 (Dense)             (None, 1)                 65        \n",
            "                                                                 \n",
            "=================================================================\n",
            "Total params: 548,673\n",
            "Trainable params: 548,673\n",
            "Non-trainable params: 0\n",
            "_________________________________________________________________\n"
          ]
        }
      ]
    },
    {
      "cell_type": "code",
      "source": [
        "#모델의 학습 진행\n",
        "model.fit(train_dataset, epochs = 10, \n",
        "          validation_data = test_dataset,\n",
        "          validation_steps = 30)\n"
      ],
      "metadata": {
        "colab": {
          "base_uri": "https://localhost:8080/"
        },
        "id": "sofzbFvgi1As",
        "outputId": "ad953f48-d696-4711-cafe-2d9b1c434d22"
      },
      "execution_count": 13,
      "outputs": [
        {
          "output_type": "stream",
          "name": "stdout",
          "text": [
            "Epoch 1/10\n",
            "391/391 [==============================] - 494s 1s/step - loss: 0.6557 - accuracy: 0.5481 - val_loss: 0.6893 - val_accuracy: 0.4917\n",
            "Epoch 2/10\n",
            "391/391 [==============================] - 494s 1s/step - loss: 0.6654 - accuracy: 0.5217 - val_loss: 0.5253 - val_accuracy: 0.6995\n",
            "Epoch 3/10\n",
            "391/391 [==============================] - 491s 1s/step - loss: 0.4257 - accuracy: 0.8062 - val_loss: 0.4215 - val_accuracy: 0.8042\n",
            "Epoch 4/10\n",
            "391/391 [==============================] - 489s 1s/step - loss: 0.3028 - accuracy: 0.8766 - val_loss: 0.4002 - val_accuracy: 0.8193\n",
            "Epoch 5/10\n",
            "391/391 [==============================] - 493s 1s/step - loss: 0.2288 - accuracy: 0.9100 - val_loss: 0.3734 - val_accuracy: 0.8562\n",
            "Epoch 6/10\n",
            "391/391 [==============================] - 489s 1s/step - loss: 0.1804 - accuracy: 0.9359 - val_loss: 0.3938 - val_accuracy: 0.8568\n",
            "Epoch 7/10\n",
            "391/391 [==============================] - 489s 1s/step - loss: 0.1341 - accuracy: 0.9533 - val_loss: 0.4286 - val_accuracy: 0.8375\n",
            "Epoch 8/10\n",
            "391/391 [==============================] - 485s 1s/step - loss: 0.0955 - accuracy: 0.9693 - val_loss: 0.4937 - val_accuracy: 0.8542\n",
            "Epoch 9/10\n",
            "391/391 [==============================] - 477s 1s/step - loss: 0.0592 - accuracy: 0.9836 - val_loss: 0.5591 - val_accuracy: 0.8406\n",
            "Epoch 10/10\n",
            "391/391 [==============================] - 487s 1s/step - loss: 0.0390 - accuracy: 0.9900 - val_loss: 0.6363 - val_accuracy: 0.8370\n"
          ]
        },
        {
          "output_type": "execute_result",
          "data": {
            "text/plain": [
              "<keras.callbacks.History at 0x7f39401222c0>"
            ]
          },
          "metadata": {},
          "execution_count": 13
        }
      ]
    },
    {
      "cell_type": "code",
      "source": [
        "#test data에 대한 정확도와 loss 파악\n",
        "test_loss, test_acc = model.evaluate(test_dataset)\n",
        "\n",
        "print('Test Loss: {}'.format(test_loss))\n",
        "print('Test Accuracy: {}'.format(test_acc))"
      ],
      "metadata": {
        "colab": {
          "base_uri": "https://localhost:8080/"
        },
        "id": "wYvoRlVBi9p_",
        "outputId": "75d06f36-43a5-4109-ec75-6dfeab256446"
      },
      "execution_count": 14,
      "outputs": [
        {
          "output_type": "stream",
          "name": "stdout",
          "text": [
            "391/391 [==============================] - 79s 202ms/step - loss: 0.6378 - accuracy: 0.8246\n",
            "Test Loss: 0.6378470063209534\n",
            "Test Accuracy: 0.8246399760246277\n"
          ]
        }
      ]
    },
    {
      "cell_type": "markdown",
      "source": [
        "# LSTM"
      ],
      "metadata": {
        "id": "DvNk8BOh3Bi_"
      }
    },
    {
      "cell_type": "code",
      "source": [
        "#RNN은 장기기억에 단점을 가지고 있음 -> vanishing gradient 발생 -> LSTM으로 보완을 해봄\n",
        "model1 = tf.keras.Sequential([\n",
        "    tf.keras.layers.Embedding(encoder.vocab_size, 64),\n",
        "    tf.keras.layers.Bidirectional(tf.keras.layers.LSTM(64)),\n",
        "    tf.keras.layers.Dense(64, activation = 'relu'),\n",
        "    tf.keras.layers.Dense(1)\n",
        "])\n"
      ],
      "metadata": {
        "id": "dSubxYv2lYAp"
      },
      "execution_count": 15,
      "outputs": []
    },
    {
      "cell_type": "code",
      "source": [
        "# loss는 binary cross-entropy, optimizer는 Adam optimizer\n",
        "model1.compile(loss = tf.keras.losses.BinaryCrossentropy(from_logits = True),\n",
        "              optimizer = tf.keras.optimizers.Adam(1e-4),\n",
        "              metrics = ['accuracy'])"
      ],
      "metadata": {
        "id": "UPgxheSdlYkx"
      },
      "execution_count": 16,
      "outputs": []
    },
    {
      "cell_type": "code",
      "source": [
        "model1.fit(train_dataset, epochs = 10, \n",
        "           validation_data = test_dataset, \n",
        "           validation_steps = 30)"
      ],
      "metadata": {
        "colab": {
          "base_uri": "https://localhost:8080/"
        },
        "id": "-NlnGUhq2pHk",
        "outputId": "4e4d02b1-8073-4cef-b2a5-c36418883eda"
      },
      "execution_count": 17,
      "outputs": [
        {
          "output_type": "stream",
          "name": "stdout",
          "text": [
            "Epoch 1/10\n",
            "391/391 [==============================] - 986s 3s/step - loss: 0.6557 - accuracy: 0.5466 - val_loss: 0.5005 - val_accuracy: 0.7896\n",
            "Epoch 2/10\n",
            "391/391 [==============================] - 977s 2s/step - loss: 0.3561 - accuracy: 0.8507 - val_loss: 0.3442 - val_accuracy: 0.8708\n",
            "Epoch 3/10\n",
            "391/391 [==============================] - 978s 3s/step - loss: 0.2522 - accuracy: 0.9029 - val_loss: 0.3603 - val_accuracy: 0.8698\n",
            "Epoch 4/10\n",
            "391/391 [==============================] - 972s 2s/step - loss: 0.2175 - accuracy: 0.9180 - val_loss: 0.3192 - val_accuracy: 0.8672\n",
            "Epoch 5/10\n",
            "391/391 [==============================] - 969s 2s/step - loss: 0.1896 - accuracy: 0.9314 - val_loss: 0.3290 - val_accuracy: 0.8635\n",
            "Epoch 6/10\n",
            "391/391 [==============================] - 964s 2s/step - loss: 0.1726 - accuracy: 0.9376 - val_loss: 0.3484 - val_accuracy: 0.8698\n",
            "Epoch 7/10\n",
            "391/391 [==============================] - 971s 2s/step - loss: 0.1450 - accuracy: 0.9501 - val_loss: 0.3737 - val_accuracy: 0.8646\n",
            "Epoch 8/10\n",
            "391/391 [==============================] - 980s 3s/step - loss: 0.1308 - accuracy: 0.9572 - val_loss: 0.3785 - val_accuracy: 0.8505\n",
            "Epoch 9/10\n",
            "391/391 [==============================] - 975s 2s/step - loss: 0.1244 - accuracy: 0.9583 - val_loss: 0.4367 - val_accuracy: 0.8562\n",
            "Epoch 10/10\n",
            "391/391 [==============================] - 982s 3s/step - loss: 0.1155 - accuracy: 0.9626 - val_loss: 0.4643 - val_accuracy: 0.8562\n"
          ]
        },
        {
          "output_type": "execute_result",
          "data": {
            "text/plain": [
              "<keras.callbacks.History at 0x7f393034bc40>"
            ]
          },
          "metadata": {},
          "execution_count": 17
        }
      ]
    },
    {
      "cell_type": "code",
      "source": [
        "#test data에 대한 정확도와 loss 파악\n",
        "test_loss, test_acc = model1.evaluate(test_dataset)\n",
        "\n",
        "print('Test Loss: {}'.format(test_loss))\n",
        "print('Test Accuracy: {}'.format(test_acc))"
      ],
      "metadata": {
        "colab": {
          "base_uri": "https://localhost:8080/"
        },
        "id": "jD8kBukM29td",
        "outputId": "3b49dc05-3315-41e9-ce25-39f1aa2fd752"
      },
      "execution_count": 18,
      "outputs": [
        {
          "output_type": "stream",
          "name": "stdout",
          "text": [
            "391/391 [==============================] - 227s 582ms/step - loss: 0.4657 - accuracy: 0.8572\n",
            "Test Loss: 0.46565738320350647\n",
            "Test Accuracy: 0.8571599721908569\n"
          ]
        }
      ]
    },
    {
      "cell_type": "code",
      "source": [],
      "metadata": {
        "id": "U91Mka9x3A1z"
      },
      "execution_count": null,
      "outputs": []
    }
  ]
}